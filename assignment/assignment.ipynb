{
  "cells": [
    {
      "cell_type": "markdown",
      "id": "13ad028b-72b7-43ed-aa78-96fd4e518040",
      "metadata": {
        "id": "13ad028b-72b7-43ed-aa78-96fd4e518040"
      },
      "source": [
        "# Assignment: Data Wrangling\n",
        "## `! git clone https://github.com/DS3001/wrangling`\n",
        "## Do Q2, and one of Q1 or Q3."
      ]
    },
    {
      "cell_type": "markdown",
      "id": "5735a4d4-8be8-433a-a351-70eb8002e632",
      "metadata": {
        "id": "5735a4d4-8be8-433a-a351-70eb8002e632"
      },
      "source": [
        "**Q1.** Open the \"tidy_data.pdf\" document in the repo, which is a paper called Tidy Data by Hadley Wickham.\n",
        "\n",
        "  1. Read the abstract. What is this paper about?\n",
        "  - Tidy Data by Hadley Wickham is a paper addressing the importance of data tidying. Data tidying ensures that the dataset follows the structure of having each variable as a column, each observation as a row, and each observational unit as a table. The paper emphasizes the advantages of this structure.\n",
        "  2. Read the introduction. What is the \"tidy data standard\" intended to accomplish?\n",
        "  - The \"tidy data standard\" is intended to develop a standardized dataset structure or way to organize data values to facilitate more efficient data exploration and analysis. The aim is to prevent analysts from needing to revisit data cleaning each time they pose a new question.\n",
        "  3. Read the intro to section 2. What does this sentence mean: \"Like families, tidy datasets are all alike but every messy dataset is messy in its own way.\"\n",
        "  - Tidy datasets, because they have the same structure and organization, likely only require the same steps of data cleaning. Messy datasets have a variety of different steps required for data cleaning, as the structure is not uniform, and cleaning can depend on the exact questions being asked.  \n",
        "  \n",
        "  What does this sentence mean: \"For a given dataset, it’s usually easy to figure out what are observations and what are variables, but it is surprisingly difficult to precisely define variables and observations in general.\"\n",
        "  - Defining variables and observations can be challenging if it seems as if a relationship exists between variables. The paper provides the example of height and width as columns/variables. This can be confusing because height and width could also be two values of a different variable: dimension.\n",
        "  4. Read Section 2.2. How does Wickham define values, variables, and observations?\n",
        "  - A value is a number or string that makes up a dataset. Values belong to a variable and an observation.\n",
        "  - A variable contains all values that measure the same underlying attribute (ex. height, temp, duration). Variables are best represented as columns.\n",
        "  - An observation contains all values measured on the same unit (ex. person, day, race) and is best represented as a row.\n",
        "  5. How is \"Tidy Data\" defined in section 2.3?\n",
        "  - Tidy data is a standard way of mapping the meaning of a dataset to its structure: variable = column, observation = row, observational unit = table.\n",
        "  6. Read the intro to Section 3 and Section 3.1. What are the 5 most common problems with messy datasets?\n",
        "  - Column headers are values, not variable names\n",
        "  - Multiple variables are stored in one column\n",
        "  - Variables are stored in both rows and columns\n",
        "  - Multiple types of observational units are stored in the same table\n",
        "  - A single observational unit is stored in multiple tables.\n",
        "  \n",
        "  Why are the data in Table 4 messy?\n",
        "  - There are 3 variables (region, income, frequency), yet there are 7 columns (religion, <$10k, $10-20k, $20-30k, $30-40k, $40-50k, $50-75k). The variables are not best represented in this way.\n",
        "\n",
        "  What is \"melting\" a dataset?\n",
        "  - Turning the columns of a dataset into rows.\n",
        "\n",
        "  7. Why, specifically, is table 11 messy but table 12 tidy and \"molten\"?\n",
        "  - The columns in table 11 are id, year, month, element, and d1-d31 for every possible day in a month. Table 12 molten data removed the d1-31 columns and changed these values to rows. Tidy data in table 12 has id, date, tmax, and tmin as variables/columns.\n",
        "  8. Read Section 6. What is the \"chicken-and-egg\" problem with focusing on tidy data? What does Wickham hope happens in the future with further work on the subject of data wrangling?\n",
        "  - The chicken-and-egg problem: If tidy date is only as useful as the tools that work with it, then tidy tools will be inexplicably linked to tidy data. Wickham hopes that others will build on this framework of data cleaning to develop even better storage strategies and tools."
      ]
    },
    {
      "cell_type": "markdown",
      "id": "da879ea7-8aac-48a3-b6c2-daea56d2e072",
      "metadata": {
        "id": "da879ea7-8aac-48a3-b6c2-daea56d2e072"
      },
      "source": [
        "**Q2.** This question provides some practice cleaning variables which have common problems.\n",
        "1. Numeric variable: For `./data/airbnb_hw.csv`, clean the `Price` variable as well as you can, and explain the choices you make. How many missing values do you end up with? (Hint: What happens to the formatting when a price goes over 999 dollars, say from 675 to 1,112?)\n",
        "2. Categorical variable: For the `./data/sharks.csv` data covered in the lecture, clean the \"Type\" variable as well as you can, and explain the choices you make.\n",
        "3. Dummy variable: For the pretrial data covered in the lecture, clean the `WhetherDefendantWasReleasedPretrial` variable as well as you can, and, in particular, replace missing values with `np.nan`.\n",
        "4. Missing values, not at random: For the pretrial data covered in the lecture, clean the `ImposedSentenceAllChargeInContactEvent` variable as well as you can, and explain the choices you make. (Hint: Look at the `SentenceTypeAllChargesAtConvictionInContactEvent` variable.)"
      ]
    },
    {
      "cell_type": "markdown",
      "id": "649494cd-cfd6-4f80-992a-9994fc19e1d5",
      "metadata": {
        "id": "649494cd-cfd6-4f80-992a-9994fc19e1d5"
      },
      "source": [
        "**Q3.** Many important datasets contain a race variable, typically limited to a handful of values often including Black, White, Asian, Latino, and Indigenous. This question looks at data gathering efforts on this variable by the U.S. Federal government.\n",
        "\n",
        "1. How did the most recent US Census gather data on race?\n",
        "2. Why do we gather these data? What role do these kinds of data play in politics and society? Why does data quality matter?\n",
        "3. Please provide a constructive criticism of how the Census was conducted: What was done well? What do you think was missing? How should future large scale surveys be adjusted to best reflect the diversity of the population? Could some of the Census' good practices be adopted more widely to gather richer and more useful data?\n",
        "4. How did the Census gather data on sex and gender? Please provide a similar constructive criticism of their practices.\n",
        "5. When it comes to cleaning data, what concerns do you have about protected characteristics like sex, gender, sexual identity, or race? What challenges can you imagine arising when there are missing values? What good or bad practices might people adopt, and why?\n",
        "6. Suppose someone invented an algorithm to impute values for protected characteristics like race, gender, sex, or sexuality. What kinds of concerns would you have?"
      ]
    }
  ],
  "metadata": {
    "colab": {
      "provenance": []
    },
    "kernelspec": {
      "display_name": "Python 3 (ipykernel)",
      "language": "python",
      "name": "python3"
    },
    "language_info": {
      "codemirror_mode": {
        "name": "ipython",
        "version": 3
      },
      "file_extension": ".py",
      "mimetype": "text/x-python",
      "name": "python",
      "nbconvert_exporter": "python",
      "pygments_lexer": "ipython3",
      "version": "3.10.4"
    }
  },
  "nbformat": 4,
  "nbformat_minor": 5
}